{
  "nbformat": 4,
  "nbformat_minor": 0,
  "metadata": {
    "colab": {
      "name": "Untitled2.ipynb",
      "provenance": [],
      "mount_file_id": "1QaWbi-JzEmNRCAuKqYEiCtxRcJUsJnSd",
      "authorship_tag": "ABX9TyORpdnq/8x7sHLXpToy+F8U",
      "include_colab_link": true
    },
    "kernelspec": {
      "name": "python3",
      "display_name": "Python 3"
    },
    "language_info": {
      "name": "python"
    }
  },
  "cells": [
    {
      "cell_type": "markdown",
      "metadata": {
        "id": "view-in-github",
        "colab_type": "text"
      },
      "source": [
        "<a href=\"https://colab.research.google.com/github/Raman1310/Raman/blob/main/Untitled2.ipynb\" target=\"_parent\"><img src=\"https://colab.research.google.com/assets/colab-badge.svg\" alt=\"Open In Colab\"/></a>"
      ]
    },
    {
      "cell_type": "code",
      "metadata": {
        "colab": {
          "base_uri": "https://localhost:8080/"
        },
        "id": "ZRdofWEK2AWI",
        "outputId": "e44018c2-951f-410b-8b43-666233422e08"
      },
      "source": [
        "pip install PyPDF2\n"
      ],
      "execution_count": null,
      "outputs": [
        {
          "output_type": "stream",
          "text": [
            "Requirement already satisfied: PyPDF2 in /usr/local/lib/python3.7/dist-packages (1.26.0)\n"
          ],
          "name": "stdout"
        }
      ]
    },
    {
      "cell_type": "code",
      "metadata": {
        "colab": {
          "base_uri": "https://localhost:8080/"
        },
        "id": "H_9QG8vC2Euc",
        "outputId": "79d90ec3-bcb4-4d9f-ebf5-cf34983faea4"
      },
      "source": [
        "import PyPDF2 \n",
        "    \n",
        "pdfFileObj = open('/content/drive/MyDrive/RAM LOGO.pdf', 'rb') \n",
        "    \n",
        "pdfReader = PyPDF2.PdfFileReader(pdfFileObj) \n",
        "    \n",
        "    \n",
        "pageObj = pdfReader.getPage(0) \n",
        "    \n",
        "print(pageObj.extractText()) \n",
        "    \n",
        "pdfFileObj.close()"
      ],
      "execution_count": null,
      "outputs": [
        {
          "output_type": "stream",
          "text": [
            "SMART DOOR LOCK SYSTEM\n",
            " \n",
            "Submitted in partial fulfilment of the requirements for the award for the degree of\n",
            " \n",
            "BACHELOR OF COMPUTER APPLICATIONS\n",
            " \n",
            "Hindusthan College of Arts and Science (Autonomous ) \n",
            "Coimbatore\n",
            "-\n",
            "641028\n",
            " \n",
            "Submitted by:\n",
            " \n",
            "R.RAMAN\n",
            " \n",
            "(Reg.no:17BCA14\n",
            "6\n",
            ")\n",
            " \n",
            "Under the supervision and guidance of\n",
            " \n",
            "Mrs.P.JAYASREE., MCA., Mphil., (Ph.D)\n",
            " \n",
            "Assistant Professor Department of Computer Applications\n",
            " \n",
            " \n",
            " \n",
            "DEPARTMENT OF COMPUTER APPLICATIONS \n",
            "HINDUSTHAN COLLEGE OF ARTS & SCIENCE\n",
            " \n",
            "AUTONOMOUS\n",
            " \n",
            "(Affiliated to Bharathiar\n",
            " \n",
            "University)\n",
            " \n",
            "Coimbatore\n",
            "-\n",
            "641028\n",
            " \n",
            "March\n",
            "-\n",
            "2020\n",
            " \n",
            "\n"
          ],
          "name": "stdout"
        }
      ]
    },
    {
      "cell_type": "code",
      "metadata": {
        "colab": {
          "base_uri": "https://localhost:8080/"
        },
        "id": "Bx63trRQ5G5Z",
        "outputId": "e4f9b2ff-043b-400d-9625-dd1475cbdd78"
      },
      "source": [
        "pip install docx2txt\n"
      ],
      "execution_count": null,
      "outputs": [
        {
          "output_type": "stream",
          "text": [
            "Collecting docx2txt\n",
            "  Downloading https://files.pythonhosted.org/packages/7d/7d/60ee3f2b16d9bfdfa72e8599470a2c1a5b759cb113c6fe1006be28359327/docx2txt-0.8.tar.gz\n",
            "Building wheels for collected packages: docx2txt\n",
            "  Building wheel for docx2txt (setup.py) ... \u001b[?25l\u001b[?25hdone\n",
            "  Created wheel for docx2txt: filename=docx2txt-0.8-cp37-none-any.whl size=3981 sha256=6fd18dd5ddb8017f46d03804953761b4d2cae7ff2a01898ae490783c295f8af8\n",
            "  Stored in directory: /root/.cache/pip/wheels/b2/1f/26/a051209bbb77fc6bcfae2bb7e01fa0ff941b82292ab084d596\n",
            "Successfully built docx2txt\n",
            "Installing collected packages: docx2txt\n",
            "Successfully installed docx2txt-0.8\n"
          ],
          "name": "stdout"
        }
      ]
    },
    {
      "cell_type": "code",
      "metadata": {
        "colab": {
          "base_uri": "https://localhost:8080/"
        },
        "id": "57OVpUxM6s6M",
        "outputId": "bce7aa1e-50bc-4b5b-9192-bbc7c2f337f0"
      },
      "source": [
        "import docx2txt\n",
        "\n",
        "MY_TEXT = docx2txt.process(\"/content/Document (3).docx\")\n",
        "\n",
        "print(MY_TEXT)\n"
      ],
      "execution_count": null,
      "outputs": [
        {
          "output_type": "stream",
          "text": [
            "SYSTEMATIC REVIEW\n",
            "\n",
            "\n",
            "\n",
            "A systematic review is a review of a clearly formulated question that uses systematic and reproducible methods to identify, select and critically appraise all relevant research, and to collect and analyse data from the studies that are included in the review.\n",
            "\n",
            "\n",
            "\n",
            "Step by step process:\n",
            "\n",
            "\n",
            "\n",
            "Develop a focused research question\n",
            "\n",
            "Inclusion and exclusion criteria\n",
            "\n",
            "Search the literature\n",
            "\n",
            "Select studies\n",
            "\n",
            "Assess study quality\n",
            "\n",
            "Extract data\n",
            "\n",
            "Analyse and present results \n",
            "\n",
            "Interpret results and draw conclusion\n",
            "\n",
            "Update as necessary\n",
            "\n",
            "\n",
            "\n",
            "\n",
            "\n",
            "\n",
            "\n",
            "\n",
            "\n",
            "\n",
            "\n",
            "Develop a focused research question\n",
            "\n",
            " A clearly defined, focused systematic review begins with a well formulated  question.\n",
            "\n",
            "Inclusion and exclusion criteria\n",
            "\n",
            "One of the features that distinguish a systematic review from a traditional review is the pre-specification of inclusion and exclusion criteria.\n",
            "\n",
            "Search the literature\n",
            "\n",
            "The goal of the literature search is to discover all studies that meet the inclusion criteria.\n",
            "\n",
            "Select studies\n",
            "\n",
            "Identification of studies meeting inclusion criteria should be done independently by two review authors.\n",
            "Review full text of studies which are found to meet the inclusion criteria.\n",
            "Keep a record of reasons for inclusion or exclusion.\n",
            "\n",
            "\n",
            "Assess study quality\n",
            "\n",
            "The full text review, assess the selected studies for risk of bias and study quality.\n",
            "\n",
            "Extract data\n",
            "\n",
            "Extract reported findings from selected studies using a data extraction form.\n",
            "Extraction forms and approaches should be determined by the needs of the specific review. \n",
            "At least two review authors should independently extract data from study reports.\n",
            "\n",
            "\n",
            "\n",
            "Analyse and present results \n",
            "\n",
            "The findings from individual studies are aggregated to produce a type of evidence  appropriate to the type of data within the review.\n",
            "\n",
            "Interpret results and draw conclusion\n",
            "\n",
            "Statement of findings, discussion and conclusions\n",
            "Information on all important outcomes, including adverse outcomes\n",
            "Quality of evidence for each outcome\n",
            "How values and preferences may bear on balance of benefits, harms, and costs of interventions\n",
            "\n",
            "\n",
            "\n",
            "\n",
            "\n",
            "\n",
            "\n",
            "\n",
            "Update as necessary\n",
            "\n",
            "Decisions about whether and when to update a systematic review \n",
            "The currency of the question asked\n",
            "The need for updating to maintain credibility\n",
            "The availability of new evidence\n",
            "Whether new research or new methods will affect the findings\n"
          ],
          "name": "stdout"
        }
      ]
    },
    {
      "cell_type": "code",
      "metadata": {
        "id": "8urJwitY_EI_"
      },
      "source": [
        ""
      ],
      "execution_count": null,
      "outputs": []
    }
  ]
}